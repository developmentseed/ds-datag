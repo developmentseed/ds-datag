{
 "cells": [
  {
   "cell_type": "code",
   "execution_count": 36,
   "metadata": {
    "executionInfo": {
     "elapsed": 5,
     "status": "ok",
     "timestamp": 1679093821731,
     "user": {
      "displayName": "Ruben Lopez Mendoza",
      "userId": "15306894667600836578"
     },
     "user_tz": 300
    },
    "id": "BkkF9Qy5ajXC"
   },
   "outputs": [],
   "source": [
    "from smart_open import open\n",
    "import json\n",
    "import supermercado\n",
    "import rasterio as rio\n",
    "import rioxarray\n",
    "from rioxarray.merge import merge_arrays\n",
    "import numpy as np\n",
    "import earthpy as et\n",
    "import earthpy.spatial as es\n",
    "import earthpy.plot as ep\n",
    "from utils21 import polygonize_raster_reproj, save_featurecollection, download_tiff, get_ndvi, fetch_tile\n",
    "import matplotlib.pyplot as plt\n",
    "from rasterio.plot import show\n",
    "import rasterio as rio\n",
    "from rasterio.plot import show\n",
    "from sklearn import cluster\n",
    "import matplotlib.pyplot as plt\n",
    "import numpy as np\n",
    "from matplotlib.colors import LinearSegmentedColormap\n",
    "# Band 4 - Red\t0.665\t10\n",
    "# Band 3 - Green\t0.560\t10\n",
    "# Band 2 - Blue\t0.490\t10\n",
    "\n"
   ]
  },
  {
   "cell_type": "code",
   "execution_count": 37,
   "metadata": {
    "executionInfo": {
     "elapsed": 8,
     "status": "ok",
     "timestamp": 1679093822285,
     "user": {
      "displayName": "Ruben Lopez Mendoza",
      "userId": "15306894667600836578"
     },
     "user_tz": 300
    },
    "id": "0LYRylt9_uUy"
   },
   "outputs": [
    {
     "data": {
      "text/plain": [
       "array([[3611, 6987,   14],\n",
       "       [3612, 6987,   14],\n",
       "       [3613, 6987,   14],\n",
       "       [3614, 6987,   14],\n",
       "       [3611, 6988,   14],\n",
       "       [3612, 6988,   14],\n",
       "       [3613, 6988,   14],\n",
       "       [3614, 6988,   14],\n",
       "       [3611, 6989,   14],\n",
       "       [3612, 6989,   14],\n",
       "       [3613, 6989,   14],\n",
       "       [3614, 6989,   14]])"
      ]
     },
     "execution_count": 37,
     "metadata": {},
     "output_type": "execute_result"
    }
   ],
   "source": [
    "geojson_area=\"data/reforestamos.geojson\"\n",
    "with open(geojson_area, \"r\", encoding=\"utf8\") as f:\n",
    "        feature_collection = json.load(f)[\"features\"]\n",
    "tiles = supermercado.burntiles.burn(feature_collection,14)\n",
    "tiles"
   ]
  },
  {
   "cell_type": "code",
   "execution_count": 38,
   "metadata": {
    "executionInfo": {
     "elapsed": 7,
     "status": "ok",
     "timestamp": 1679093822286,
     "user": {
      "displayName": "Ruben Lopez Mendoza",
      "userId": "15306894667600836578"
     },
     "user_tz": 300
    },
    "id": "5zRocQURoPMV"
   },
   "outputs": [],
   "source": [
    "tms=\"https://planetarycomputer.microsoft.com/api/data/v1/mosaic/tiles/217af96b6f5eff81477cf0f155299ec7/{z}/{x}/{y}?scale=2&{assets}&color_formula=Gamma+RGB+3.2+Saturation+0.8+Sigmoidal+RGB+25+0.35&collection=sentinel-2-l2a&format=tif\""
   ]
  },
  {
   "cell_type": "code",
   "execution_count": 42,
   "metadata": {
    "tags": []
   },
   "outputs": [],
   "source": [
    "def raster_to_1d_(tile_raster):\n",
    "    print(tile_raster.shape)\n",
    "    # create an empty array with same dimension and data type\n",
    "    imgxyb = np.empty((tile_raster.height, tile_raster.width, tile_raster.count), tile_raster.meta['dtype'])\n",
    "   # loop through the raster's bands to fill the empty array\n",
    "    for band in range(imgxyb.shape[2]):\n",
    "        imgxyb[:,:,band] = tile_raster.read(band+1)\n",
    "    # convert to 1d array\n",
    "    img1d=imgxyb[:,:,:4].reshape((imgxyb.shape[0]*imgxyb.shape[1],imgxyb.shape[2]))\n",
    "    return imgxyb, img1d"
   ]
  },
  {
   "cell_type": "code",
   "execution_count": 44,
   "metadata": {
    "tags": []
   },
   "outputs": [
    {
     "name": "stdout",
     "output_type": "stream",
     "text": [
      "data/3614-6987-14.tif\n",
      "(512, 512)\n",
      "(512, 512, 4)\n",
      "(262144, 4)\n"
     ]
    }
   ],
   "source": [
    "images=[]\n",
    "objs_arrays = {}\n",
    "\n",
    "for tile in list(tiles)[3:4]:\n",
    "    x,y,z=tile\n",
    "    assets=\"assets=B04&assets=B03&assets=B02\"\n",
    "    url = tms.format(x=x,y=y,z=z, assets=assets)\n",
    "    path_tile = fetch_tile(tile, url)\n",
    "    print(path_tile)\n",
    "    if path_tile is not None:\n",
    "        tile_raster = rio.open(path_tile)\n",
    "        imgxyb, img1d = raster_to_1d_(tile_raster)\n",
    "        print(imgxyb.shape)\n",
    "        print(img1d.shape)\n",
    "\n",
    "        \n",
    "# plt.figure(figsize=[6,6])\n",
    "# show(images[0], cmap='gray')\n",
    "# plt.show()\n"
   ]
  },
  {
   "cell_type": "markdown",
   "metadata": {},
   "source": [
    "# Clustering"
   ]
  },
  {
   "cell_type": "code",
   "execution_count": 45,
   "metadata": {
    "colab": {
     "base_uri": "https://localhost:8080/",
     "height": 1000
    },
    "executionInfo": {
     "elapsed": 4893,
     "status": "ok",
     "timestamp": 1679093828101,
     "user": {
      "displayName": "Ruben Lopez Mendoza",
      "userId": "15306894667600836578"
     },
     "user_tz": 300
    },
    "id": "-beC_boDx9BY",
    "outputId": "84365a2e-f370-4932-b6c5-28e8000c3fda",
    "tags": []
   },
   "outputs": [
    {
     "name": "stderr",
     "output_type": "stream",
     "text": [
      "/usr/local/lib/python3.10/dist-packages/sklearn/cluster/_kmeans.py:870: FutureWarning: The default value of `n_init` will change from 10 to 'auto' in 1.4. Set the value of `n_init` explicitly to suppress the warning\n",
      "  warnings.warn(\n"
     ]
    }
   ],
   "source": [
    "cl = cluster.KMeans(n_clusters=5) # create an object of the classifier\n",
    "param = cl.fit(img1d) # train it\n",
    "img_cl = cl.labels_ # get the labels of the classes\n",
    "img_cl = img_cl.reshape(imgxyb[:,:,0].shape) # reshape labels to a 3d array (one band only)"
   ]
  },
  {
   "cell_type": "code",
   "execution_count": 46,
   "metadata": {
    "tags": []
   },
   "outputs": [
    {
     "data": {
      "image/png": "[encoded data removed]",
      "text/plain": [
       "<Figure size 700x700 with 2 Axes>"
      ]
     },
     "metadata": {},
     "output_type": "display_data"
    }
   ],
   "source": [
    "# Create a custom color map to represent our different 4 classes\n",
    "cmap = LinearSegmentedColormap.from_list(\"\", [\"black\",\"red\",\"green\",\"yellow\",\"purple\"])\n",
    "plt.figure(figsize = (7,7))\n",
    "plt.imshow(img_cl, cmap=cmap, interpolation='nearest', aspect='auto')\n",
    "plt.colorbar()\n",
    "plt.show()\n"
   ]
  },
  {
   "cell_type": "code",
   "execution_count": 47,
   "metadata": {
    "tags": []
   },
   "outputs": [
    {
     "ename": "IndexError",
     "evalue": "list index out of range",
     "output_type": "error",
     "traceback": [
      "\u001b[0;31m---------------------------------------------------------------------------\u001b[0m",
      "\u001b[0;31mIndexError\u001b[0m                                Traceback (most recent call last)",
      "Cell \u001b[0;32mIn[47], line 1\u001b[0m\n\u001b[0;32m----> 1\u001b[0m results_ \u001b[38;5;241m=\u001b[39m \u001b[43mtiles_array\u001b[49m\u001b[43m[\u001b[49m\u001b[38;5;241;43m0\u001b[39;49m\u001b[43m]\u001b[49m\u001b[38;5;241m*\u001b[39m\u001b[38;5;241m0\u001b[39m \u001b[38;5;241m+\u001b[39m img_cl\n\u001b[1;32m      3\u001b[0m \u001b[38;5;66;03m# r = results_.rio.Dataset()\u001b[39;00m\n\u001b[1;32m      4\u001b[0m \u001b[38;5;66;03m# # help(results_.rio)\u001b[39;00m\n\u001b[1;32m      5\u001b[0m \u001b[38;5;66;03m# print(type(r))\u001b[39;00m\n\u001b[1;32m      6\u001b[0m \n\u001b[1;32m      7\u001b[0m \u001b[38;5;66;03m# results_raster = results_.rio.reproject('epsg:3857')\u001b[39;00m\n\u001b[1;32m      8\u001b[0m \u001b[38;5;66;03m# results_raster.rio.to_raster(\"data/resutls_2.tif\")\u001b[39;00m\n\u001b[1;32m     10\u001b[0m dataset \u001b[38;5;241m=\u001b[39m rio\u001b[38;5;241m.\u001b[39mopen(\u001b[38;5;124m\"\u001b[39m\u001b[38;5;124mdata/resutls_2.tif\u001b[39m\u001b[38;5;124m\"\u001b[39m)\n",
      "\u001b[0;31mIndexError\u001b[0m: list index out of range"
     ]
    }
   ],
   "source": [
    "results_ = tiles_array[0]*0 + img_cl\n",
    "\n",
    "# r = results_.rio.Dataset()\n",
    "# # help(results_.rio)\n",
    "# print(type(r))\n",
    "\n",
    "# results_raster = results_.rio.reproject('epsg:3857')\n",
    "# results_raster.rio.to_raster(\"data/resutls_2.tif\")\n",
    "\n",
    "dataset = rio.open(\"data/resutls_2.tif\")\n",
    "print(type(dataset))\n",
    "\n"
   ]
  },
  {
   "cell_type": "markdown",
   "metadata": {},
   "source": [
    "# Convert Raster to vector"
   ]
  },
  {
   "cell_type": "code",
   "execution_count": 34,
   "metadata": {
    "tags": []
   },
   "outputs": [
    {
     "name": "stderr",
     "output_type": "stream",
     "text": [
      "/usr/local/lib/python3.10/dist-packages/pyproj/crs/crs.py:141: FutureWarning: '+init=<authority>:<code>' syntax is deprecated. '<authority>:<code>' is the preferred initialization method. When making the change, be mindful of axis order changes: https://pyproj4.github.io/pyproj/stable/gotchas.html#axis-order-changes-in-proj-6\n",
      "  in_crs_string = _prepare_from_proj_string(in_crs_string)\n"
     ]
    },
    {
     "ename": "NameError",
     "evalue": "name 'Polygon' is not defined",
     "output_type": "error",
     "traceback": [
      "\u001b[0;31m---------------------------------------------------------------------------\u001b[0m",
      "\u001b[0;31mNameError\u001b[0m                                 Traceback (most recent call last)",
      "Cell \u001b[0;32mIn[34], line 2\u001b[0m\n\u001b[1;32m      1\u001b[0m dataset \u001b[38;5;241m=\u001b[39m rio\u001b[38;5;241m.\u001b[39mopen(\u001b[38;5;124m\"\u001b[39m\u001b[38;5;124mdata/resutls_2.tif\u001b[39m\u001b[38;5;124m\"\u001b[39m)\n\u001b[0;32m----> 2\u001b[0m features \u001b[38;5;241m=\u001b[39m \u001b[43mpolygonize_raster_reproj\u001b[49m\u001b[43m(\u001b[49m\u001b[43mdataset\u001b[49m\u001b[43m)\u001b[49m\n\u001b[1;32m      4\u001b[0m features_filter \u001b[38;5;241m=\u001b[39m [f \u001b[38;5;28;01mfor\u001b[39;00m f \u001b[38;5;129;01min\u001b[39;00m features \u001b[38;5;28;01mif\u001b[39;00m f[\u001b[38;5;124m\"\u001b[39m\u001b[38;5;124mproperties\u001b[39m\u001b[38;5;124m\"\u001b[39m][\u001b[38;5;124m\"\u001b[39m\u001b[38;5;124mv\u001b[39m\u001b[38;5;124m\"\u001b[39m] \u001b[38;5;241m!=\u001b[39m\u001b[38;5;241m0.0\u001b[39m]\n\u001b[1;32m      5\u001b[0m save_featurecollection( features_filter,\u001b[38;5;124m'\u001b[39m\u001b[38;5;124mdata/results.geojson\u001b[39m\u001b[38;5;124m'\u001b[39m)\n",
      "File \u001b[0;32m/mnt/notebooks/utils21.py:55\u001b[0m, in \u001b[0;36mpolygonize_raster_reproj\u001b[0;34m(dataset)\u001b[0m\n\u001b[1;32m     53\u001b[0m \u001b[38;5;28;01mfor\u001b[39;00m geom, value \u001b[38;5;129;01min\u001b[39;00m generator:\n\u001b[1;32m     54\u001b[0m     geom \u001b[38;5;241m=\u001b[39m shapely\u001b[38;5;241m.\u001b[39mgeometry\u001b[38;5;241m.\u001b[39mshape(geom)\n\u001b[0;32m---> 55\u001b[0m     poly \u001b[38;5;241m=\u001b[39m \u001b[43mPolygon\u001b[49m(geom\u001b[38;5;241m.\u001b[39mexterior\u001b[38;5;241m.\u001b[39mcoords)\n\u001b[1;32m     56\u001b[0m     \u001b[38;5;66;03m# print(poly.type)\u001b[39;00m\n\u001b[1;32m     57\u001b[0m     geom_reporj \u001b[38;5;241m=\u001b[39m shpTrans(project,poly)\n",
      "\u001b[0;31mNameError\u001b[0m: name 'Polygon' is not defined"
     ]
    }
   ],
   "source": [
    "dataset = rio.open(\"data/resutls_2.tif\")\n",
    "features = polygonize_raster_reproj(dataset)\n",
    "\n",
    "features_filter = [f for f in features if f[\"properties\"][\"v\"] !=0.0]\n",
    "save_featurecollection( features_filter,'data/results.geojson')\n",
    "# features_filter\n",
    "\n"
   ]
  },
  {
   "cell_type": "markdown",
   "metadata": {},
   "source": [
    "# Predictions"
   ]
  },
  {
   "cell_type": "code",
   "execution_count": 125,
   "metadata": {},
   "outputs": [],
   "source": [
    "# open the raster image\n",
    "elmanagel = rio.open(‘elmanagel.tif’)\n",
    "# create an empty array with same dimensions and data type \n",
    "elman_xyb = np.empty((elmanagel.height, elmanagel.width,elmanagel.count), elmanagel.meta['dtype'])\n",
    "# loop through the raster bands and fill the empty array in x-y-bands order\n",
    "for band in range(elman_xyb.shape[2]):\n",
    "    elman_xyb[:,:,band] = elmanagel.read(band+1)\n",
    "# convert to 1d array\n",
    "elman_1d = elman_xyb[:,:,:3].reshape(elman_xyb.shape[0]*elman_xyb.shape[1], elman_xyb.shape[2])\n",
    "# predict the clusters in the image \n",
    "pred = cl.predict(elman_1d)\n",
    "# reshape the 1d array predictions to x-y-bands shape order (only one band)\n",
    "elman_cul = pred\n",
    "elman_cul = elman_cul.reshape(elman_xyb[:,:,0].shape)\n",
    "\n"
   ]
  },
  {
   "cell_type": "code",
   "execution_count": null,
   "metadata": {},
   "outputs": [],
   "source": []
  }
 ],
 "metadata": {
  "colab": {
   "authorship_tag": "ABX9TyOqNYX5zzd/xaTvE51jMOBC",
   "provenance": []
  },
  "kernelspec": {
   "display_name": "Python 3 (ipykernel)",
   "language": "python",
   "name": "python3"
  },
  "language_info": {
   "codemirror_mode": {
    "name": "ipython",
    "version": 3
   },
   "file_extension": ".py",
   "mimetype": "text/x-python",
   "name": "python",
   "nbconvert_exporter": "python",
   "pygments_lexer": "ipython3",
   "version": "3.9.16"
  }
 },
 "nbformat": 4,
 "nbformat_minor": 4
}
